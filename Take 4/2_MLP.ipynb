{
 "cells": [
  {
   "cell_type": "code",
   "execution_count": 3,
   "id": "0b4e5bdf",
   "metadata": {},
   "outputs": [],
   "source": [
    "import pandas_datareader as pdr\n",
    "import pandas as pd\n",
    "import numpy as np\n",
    "from sklearn.model_selection import train_test_split\n",
    "from sklearn.metrics import accuracy_score\n",
    "from sklearn.neural_network import MLPClassifier\n",
    "from sklearn.pipeline import make_pipeline\n",
    "from sklearn.preprocessing import StandardScaler"
   ]
  },
  {
   "cell_type": "code",
   "execution_count": null,
   "id": "139b5dbc",
   "metadata": {},
   "outputs": [],
   "source": []
  },
  {
   "cell_type": "code",
   "execution_count": 4,
   "id": "37d3de98",
   "metadata": {},
   "outputs": [
    {
     "name": "stdout",
     "output_type": "stream",
     "text": [
      "0.7741935483870968\n"
     ]
    }
   ],
   "source": [
    "df = pd.read_csv('data.csv')\n",
    "# Changes The Date column as index columns\n",
    "df.index = pd.to_datetime(df['price_date'])\n",
    "\n",
    "  \n",
    "# drop The original date column\n",
    "df = df.drop(['price_date'], axis='columns')\n",
    "df=df[df['fund_symbol']=='AAA']\n",
    "df = df.drop(['fund_symbol'], axis='columns')\n",
    "\n",
    "\n",
    "df[\"Diff\"] = df.close.diff()\n",
    "df[\"SMA_2\"] = df.close.rolling(2).mean()\n",
    "df[\"Force_Index\"] = df[\"close\"] * df[\"volume\"]\n",
    "df[\"y\"] = df[\"Diff\"].apply(lambda x: 1 if x > 0 else 0).shift(-1)\n",
    "df = df.drop(\n",
    "   [\"open\", \"high\", \"low\", \"close\", \"volume\", \"Diff\", \"adj_close\"],\n",
    "   axis=1,\n",
    ").dropna()\n",
    "# print(df)\n",
    "X = df.drop([\"y\"], axis=1).values\n",
    "y = df[\"y\"].values\n",
    "X_train, X_test, y_train, y_test = train_test_split(\n",
    "   X,\n",
    "   y,\n",
    "   test_size=0.2,\n",
    "   shuffle=False,\n",
    ")\n",
    "clf = make_pipeline(StandardScaler(), MLPClassifier(random_state=0, shuffle=False))\n",
    "clf.fit(\n",
    "   X_train,\n",
    "   y_train,\n",
    ")\n",
    "y_pred = clf.predict(X_test)\n",
    "print(accuracy_score(y_test, y_pred))"
   ]
  }
 ],
 "metadata": {
  "kernelspec": {
   "display_name": "Python 3 (ipykernel)",
   "language": "python",
   "name": "python3"
  },
  "language_info": {
   "codemirror_mode": {
    "name": "ipython",
    "version": 3
   },
   "file_extension": ".py",
   "mimetype": "text/x-python",
   "name": "python",
   "nbconvert_exporter": "python",
   "pygments_lexer": "ipython3",
   "version": "3.9.12"
  }
 },
 "nbformat": 4,
 "nbformat_minor": 5
}
