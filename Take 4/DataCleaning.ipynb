{
 "cells": [
  {
   "cell_type": "markdown",
   "id": "d7af987c",
   "metadata": {},
   "source": [
    "## Import libs"
   ]
  },
  {
   "cell_type": "code",
   "execution_count": 13,
   "id": "942b7cd1",
   "metadata": {},
   "outputs": [],
   "source": [
    "#import libraries\n",
    "%matplotlib inline\n",
    "import numpy as np\n",
    "import matplotlib.pyplot as plt\n",
    "import pandas as pd\n",
    "import warnings\n",
    "warnings.filterwarnings(\"ignore\")"
   ]
  },
  {
   "cell_type": "markdown",
   "id": "adeace8a",
   "metadata": {},
   "source": [
    "## Load Raw CSV and replace Nan values with 0"
   ]
  },
  {
   "cell_type": "code",
   "execution_count": 14,
   "id": "91579bac",
   "metadata": {},
   "outputs": [
    {
     "name": "stdout",
     "output_type": "stream",
     "text": [
      "(6472, 657)\n",
      "(1633, 2)\n"
     ]
    }
   ],
   "source": [
    "df_timeseries = pd.read_csv('MASTERDATASET.csv', sep=\",\", index_col=False)\n",
    "df_ESG = pd.read_csv('ESGSCORES.csv', index_col=False,usecols=[0,2])\n",
    "\n",
    "df_timeseries = df_timeseries.replace(np.nan,0)\n",
    "df_ESG = df_ESG.replace(np.nan,0)\n",
    "\n",
    "print(df_timeseries.shape)\n",
    "print(df_ESG.shape)"
   ]
  },
  {
   "cell_type": "markdown",
   "id": "99b394e2",
   "metadata": {},
   "source": [
    "## Drop ETFs that do not have ETF scores"
   ]
  },
  {
   "cell_type": "code",
   "execution_count": 17,
   "id": "782817e8",
   "metadata": {},
   "outputs": [
    {
     "name": "stdout",
     "output_type": "stream",
     "text": [
      "Rows:  6472\n",
      "Columns:  321\n"
     ]
    }
   ],
   "source": [
    "Columns=656\n",
    "assetLabels_timeseries = df_timeseries.columns[0:Columns+1].tolist()\n",
    "assetLabels_ESG = df_ESG['Symbol'].tolist()\n",
    "\n",
    "df = df_timeseries\n",
    "\n",
    "df_assetLabels_timeseries=pd.DataFrame(assetLabels_timeseries,columns=[\"Symbol\"])\n",
    "df_assetLabels_ESG=pd.DataFrame(assetLabels_ESG,columns=[\"Symbol\"])\n",
    "df_assetLabels= pd.concat([df_assetLabels_timeseries, df_assetLabels_ESG],axis= 0)\n",
    "\n",
    "df_assetLabels=df_assetLabels[df_assetLabels[['Symbol']].duplicated() == True]\n",
    "df_assetLabels=df_assetLabels.drop_duplicates()\n",
    "\n",
    "ds=df_assetLabels['Symbol']\n",
    "ds=np.append(ds,'Row Labels')\n",
    "\n",
    "df=df.loc[:, df.columns.isin(ds)]\n",
    "\n",
    "ETFs=df_assetLabels['Symbol']\n",
    "\n",
    "Rows=df.shape[0]\n",
    "Columns=df.shape[1]\n",
    "print(\"Rows: \",Rows)\n",
    "print(\"Columns: \", Columns)"
   ]
  },
  {
   "cell_type": "markdown",
   "id": "26a53419",
   "metadata": {},
   "source": [
    "## Replace 0 values with mean stock price value"
   ]
  },
  {
   "cell_type": "code",
   "execution_count": 18,
   "id": "b7b217ad",
   "metadata": {},
   "outputs": [],
   "source": [
    "df.replace(0,df.mean(axis=0),inplace=True)\n",
    "df.head()\n",
    "df.to_csv('out.csv')"
   ]
  }
 ],
 "metadata": {
  "kernelspec": {
   "display_name": "Python 3 (ipykernel)",
   "language": "python",
   "name": "python3"
  },
  "language_info": {
   "codemirror_mode": {
    "name": "ipython",
    "version": 3
   },
   "file_extension": ".py",
   "mimetype": "text/x-python",
   "name": "python",
   "nbconvert_exporter": "python",
   "pygments_lexer": "ipython3",
   "version": "3.9.12"
  }
 },
 "nbformat": 4,
 "nbformat_minor": 5
}
